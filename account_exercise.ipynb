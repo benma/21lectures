{
 "cells": [
  {
   "cell_type": "code",
   "execution_count": 1,
   "metadata": {},
   "outputs": [],
   "source": [
    "# Needed imports\n",
    "# In your VM, run `pip3 install pywallet` beforehand.\n",
    "from pprint import pprint\n",
    "import account_test\n",
    "import requests\n",
    "from pywallet.utils import Wallet"
   ]
  },
  {
   "cell_type": "markdown",
   "metadata": {},
   "source": [
    "Set up initial config. The account xpub must be a testnet xpub.\n",
    "\n",
    "It is at the level of a bip44 account, so starting at for example m/44'/0'/0'.\n",
    "\n",
    "`xpub/0/<index>` and `xpub/1/<index>` will enumerate the receive and change addresses."
   ]
  },
  {
   "cell_type": "code",
   "execution_count": 2,
   "metadata": {},
   "outputs": [],
   "source": [
    "xpub_str = \"tpubDDjcecUiJegnYexfPHbxVsmsrqoGUeQr6DdU7Apz8Qg56GcThfgcZBdyTR7Ax7xRPLbJX7qS98zkgmvrMfNPhxLfax3KkGtAeV98EJPsbF9\"\n",
    "gap_limit = 20"
   ]
  },
  {
   "cell_type": "code",
   "execution_count": 3,
   "metadata": {},
   "outputs": [],
   "source": [
    "xpub = Wallet.deserialize(xpub_str, \"bitcoin_testnet\")\n",
    "# An account consists of two address chains, the receive and the change addresses.\n",
    "# account xpub (e.g. m/44'/0'/0'), with addresses living under xpub/<change>/<address>\n",
    "receive_xpub = xpub.get_child(0)\n",
    "change_xpub = xpub.get_child(1)"
   ]
  },
  {
   "cell_type": "code",
   "execution_count": 4,
   "metadata": {},
   "outputs": [
    {
     "name": "stdout",
     "output_type": "stream",
     "text": [
      "mgMeHjSHkCHVhRoict9n3q4cRsbxBAFeH5\n"
     ]
    }
   ],
   "source": [
    "def get_address(xpub):\n",
    "    \"\"\"\n",
    "    Determines the account type. By default p2pkh addresses are generated.\n",
    "    \"\"\"\n",
    "    return xpub.to_address() # p2pkh\n",
    "# Example:\n",
    "print(get_address(receive_xpub.get_child(0)))"
   ]
  },
  {
   "cell_type": "code",
   "execution_count": 5,
   "metadata": {},
   "outputs": [
    {
     "name": "stdout",
     "output_type": "stream",
     "text": [
      "{'fee': 227,\n",
      " 'locktime': 0,\n",
      " 'size': 226,\n",
      " 'status': {'block_hash': '0000000000000375a7f4e55a92661595c88987383d0778875a37343ae55813aa',\n",
      "            'block_height': 1292137,\n",
      "            'block_time': 1523368940,\n",
      "            'confirmed': True},\n",
      " 'txid': '15a78cb63ab3e314a5357166dafc8c53499dc09d06e4fcf1909c618656f4a8e6',\n",
      " 'version': 1,\n",
      " 'vin': [{'is_coinbase': False,\n",
      "          'prevout': {'scriptpubkey': '76a91409355a134498035b34bd32bb4edbb2700ee31b4288ac',\n",
      "                      'scriptpubkey_address': 'mgMeHjSHkCHVhRoict9n3q4cRsbxBAFeH5',\n",
      "                      'scriptpubkey_asm': 'OP_DUP OP_HASH160 OP_PUSHBYTES_20 '\n",
      "                                          '09355a134498035b34bd32bb4edbb2700ee31b42 '\n",
      "                                          'OP_EQUALVERIFY OP_CHECKSIG',\n",
      "                      'scriptpubkey_type': 'p2pkh',\n",
      "                      'value': 32500000},\n",
      "          'scriptsig': '483045022100c12b450ab5e8f29b11f10eb3a0537a1cdfb6093170cbe55cd460948b641752ea02202453dc76038b38eedcd3af8b0b312c732879b8aa1017fc47416a61bdbbdab3ea012102cb89f8a4912360d404413e64e4e47bd20959e2a6cd56fa37db4b0bca46daa822',\n",
      "          'scriptsig_asm': 'OP_PUSHBYTES_72 '\n",
      "                           '3045022100c12b450ab5e8f29b11f10eb3a0537a1cdfb6093170cbe55cd460948b641752ea02202453dc76038b38eedcd3af8b0b312c732879b8aa1017fc47416a61bdbbdab3ea01 '\n",
      "                           'OP_PUSHBYTES_33 '\n",
      "                           '02cb89f8a4912360d404413e64e4e47bd20959e2a6cd56fa37db4b0bca46daa822',\n",
      "          'sequence': 4294967295,\n",
      "          'txid': 'b934da3f4f52d872a52afdc3570dcd73f47c63428a9f6a3f1f2e19b0c12cea87',\n",
      "          'vout': 0}],\n",
      " 'vout': [{'scriptpubkey': '76a9146df71724c5a1f0e4c4ac11c7b61fefe4f4a18db488ac',\n",
      "           'scriptpubkey_address': 'mqYPx76JwqkRb3xLxkWhtG2x9KyHERpt6W',\n",
      "           'scriptpubkey_asm': 'OP_DUP OP_HASH160 OP_PUSHBYTES_20 '\n",
      "                               '6df71724c5a1f0e4c4ac11c7b61fefe4f4a18db4 '\n",
      "                               'OP_EQUALVERIFY OP_CHECKSIG',\n",
      "           'scriptpubkey_type': 'p2pkh',\n",
      "           'value': 12499773},\n",
      "          {'scriptpubkey': '76a914664af8a9967abebfd9842acdc08d43489cdabafa88ac',\n",
      "           'scriptpubkey_address': 'mpqq2ikKG7hDuerE3k9gE3mhV7UPxKcNjx',\n",
      "           'scriptpubkey_asm': 'OP_DUP OP_HASH160 OP_PUSHBYTES_20 '\n",
      "                               '664af8a9967abebfd9842acdc08d43489cdabafa '\n",
      "                               'OP_EQUALVERIFY OP_CHECKSIG',\n",
      "           'scriptpubkey_type': 'p2pkh',\n",
      "           'value': 20000000}],\n",
      " 'weight': 904}\n"
     ]
    }
   ],
   "source": [
    "def get_tx(tx_id):\n",
    "    return requests.get(\"https://blockstream.info/testnet/api/tx/{}\".format(tx_id)).json()\n",
    "# Example:\n",
    "pprint(get_tx(\"15a78cb63ab3e314a5357166dafc8c53499dc09d06e4fcf1909c618656f4a8e6\"))"
   ]
  },
  {
   "cell_type": "code",
   "execution_count": 6,
   "metadata": {},
   "outputs": [
    {
     "name": "stdout",
     "output_type": "stream",
     "text": [
      "['15a78cb63ab3e314a5357166dafc8c53499dc09d06e4fcf1909c618656f4a8e6',\n",
      " 'b934da3f4f52d872a52afdc3570dcd73f47c63428a9f6a3f1f2e19b0c12cea87']\n"
     ]
    }
   ],
   "source": [
    "def get_history(address):\n",
    "    \"\"\"\n",
    "    This returns the list of transaction IDs of all transactions that touch this address.\n",
    "    This functionality is commonly provided by blockchain indexers, like ElectrumX/Electrs,\n",
    "    libbitcoin, block explorers, etc.\n",
    "    Example result:\n",
    "    ['22bbac62c1f089a0a9c6e5d5c8ca03884e984dec43ac6e4f86f7346f9971656b',\n",
    "    '15a78cb63ab3e314a5357166dafc8c53499dc09d06e4fcf1909c618656f4a8e6']\n",
    "    \"\"\"\n",
    "    # Fetches up to 25 transactions, need to chain multiple calls if more are needed.\n",
    "    # We won't bother for now.\n",
    "    txs = requests.get(\"https://blockstream.info/testnet/api/address/{}/txs\".format(address)).json()\n",
    "    tx_ids = [tx[\"txid\"] for tx in txs]\n",
    "    return tx_ids\n",
    "# Example:\n",
    "pprint(get_history(\"mgMeHjSHkCHVhRoict9n3q4cRsbxBAFeH5\"))"
   ]
  },
  {
   "cell_type": "markdown",
   "metadata": {},
   "source": [
    "The first exercise follows. Implement the body of `scan_until_gaplimit`. See the docstring for the expected result."
   ]
  },
  {
   "cell_type": "code",
   "execution_count": 7,
   "metadata": {},
   "outputs": [
    {
     "ename": "AssertionError",
     "evalue": "Got [], expected [('myjHdcsgD79EtAfLNr9KJkHtE9cEAW2DQa', []), ('moinb2MeDuePho4qDoCqfzmeEXVzyDgveU', []), ('muS27sRw4ZJeDJk38m5dr5txAfMzuXWW9b', []), ('mtrSNfUqffDkeLznkzbGxXNCb8CTMPyYjc', []), ('muCUPReC2UcEHkg7EPCPJ2n3r3mg8jUURw', [])]",
     "output_type": "error",
     "traceback": [
      "\u001b[0;31m---------------------------------------------------------------------------\u001b[0m",
      "\u001b[0;31mAssertionError\u001b[0m                            Traceback (most recent call last)",
      "\u001b[0;32m<ipython-input-7-79bcfbf1606c>\u001b[0m in \u001b[0;36m<module>\u001b[0;34m\u001b[0m\n\u001b[1;32m     21\u001b[0m \u001b[0;34m\u001b[0m\u001b[0m\n\u001b[1;32m     22\u001b[0m \u001b[0;31m# Performs some basic unit testing to check your implementation.\u001b[0m\u001b[0;34m\u001b[0m\u001b[0;34m\u001b[0m\u001b[0;34m\u001b[0m\u001b[0m\n\u001b[0;32m---> 23\u001b[0;31m \u001b[0maccount_test\u001b[0m\u001b[0;34m.\u001b[0m\u001b[0mtest_scan_until_gaplimit\u001b[0m\u001b[0;34m(\u001b[0m\u001b[0mscan_until_gaplimit\u001b[0m\u001b[0;34m)\u001b[0m\u001b[0;34m\u001b[0m\u001b[0;34m\u001b[0m\u001b[0m\n\u001b[0m",
      "\u001b[0;32m~/Untitled Folder/account_test.py\u001b[0m in \u001b[0;36mtest_scan_until_gaplimit\u001b[0;34m(scan_until_gaplimit)\u001b[0m\n\u001b[1;32m     18\u001b[0m     \u001b[0mexpected\u001b[0m \u001b[0;34m=\u001b[0m \u001b[0mhistories\u001b[0m\u001b[0;34m\u001b[0m\u001b[0;34m\u001b[0m\u001b[0m\n\u001b[1;32m     19\u001b[0m     \u001b[0mresult\u001b[0m \u001b[0;34m=\u001b[0m \u001b[0mscan_until_gaplimit\u001b[0m\u001b[0;34m(\u001b[0m\u001b[0mxpub\u001b[0m\u001b[0;34m,\u001b[0m \u001b[0mgap_limit\u001b[0m\u001b[0;34m,\u001b[0m \u001b[0mget_history\u001b[0m\u001b[0;34m)\u001b[0m\u001b[0;34m\u001b[0m\u001b[0;34m\u001b[0m\u001b[0m\n\u001b[0;32m---> 20\u001b[0;31m     \u001b[0;32massert\u001b[0m \u001b[0mresult\u001b[0m \u001b[0;34m==\u001b[0m \u001b[0mexpected\u001b[0m\u001b[0;34m,\u001b[0m \u001b[0;34m\"Got {}, expected {}\"\u001b[0m\u001b[0;34m.\u001b[0m\u001b[0mformat\u001b[0m\u001b[0;34m(\u001b[0m\u001b[0mresult\u001b[0m\u001b[0;34m,\u001b[0m \u001b[0mexpected\u001b[0m\u001b[0;34m)\u001b[0m\u001b[0;34m\u001b[0m\u001b[0;34m\u001b[0m\u001b[0m\n\u001b[0m\u001b[1;32m     21\u001b[0m \u001b[0;34m\u001b[0m\u001b[0m\n\u001b[1;32m     22\u001b[0m     \u001b[0mhistories\u001b[0m \u001b[0;34m=\u001b[0m \u001b[0mlist\u001b[0m\u001b[0;34m(\u001b[0m\u001b[0mzip\u001b[0m\u001b[0;34m(\u001b[0m\u001b[0maddresses\u001b[0m\u001b[0;34m,\u001b[0m \u001b[0;34m[\u001b[0m\u001b[0;34m[\u001b[0m\u001b[0;34m\"tx1\"\u001b[0m\u001b[0;34m,\u001b[0m \u001b[0;34m\"tx2\"\u001b[0m\u001b[0;34m]\u001b[0m\u001b[0;34m,\u001b[0m \u001b[0;34m[\u001b[0m\u001b[0;34m\"tx1\"\u001b[0m\u001b[0;34m]\u001b[0m\u001b[0;34m]\u001b[0m \u001b[0;34m+\u001b[0m \u001b[0mempty\u001b[0m\u001b[0;34m)\u001b[0m\u001b[0;34m)\u001b[0m\u001b[0;34m\u001b[0m\u001b[0;34m\u001b[0m\u001b[0m\n",
      "\u001b[0;31mAssertionError\u001b[0m: Got [], expected [('myjHdcsgD79EtAfLNr9KJkHtE9cEAW2DQa', []), ('moinb2MeDuePho4qDoCqfzmeEXVzyDgveU', []), ('muS27sRw4ZJeDJk38m5dr5txAfMzuXWW9b', []), ('mtrSNfUqffDkeLznkzbGxXNCb8CTMPyYjc', []), ('muCUPReC2UcEHkg7EPCPJ2n3r3mg8jUURw', [])]"
     ]
    }
   ],
   "source": [
    "def scan_until_gaplimit(xpub, gap_limit, get_history):\n",
    "    \"\"\"\n",
    "    xpub:\n",
    "      key to derive addresses from.\n",
    "      It will be either receive_xpub or change_xpub.\n",
    "      the xpub deriving change addresses.\n",
    "      Derive child keys using `xpub.get_child(index)` and derive\n",
    "      the corresponding address using `get_address()`.\n",
    "    gap_limit:\n",
    "      Stop scanning when there are `gap_limit` consecutive addresses without any history.\n",
    "    get_history:\n",
    "      same as the function implemented above, use it to fetch the\n",
    "      address history (transaction IDs).\n",
    "    Return:\n",
    "      List of (address, address history) tuples, like:\n",
    "      [(\"address1\", [\"tx id 1\", \"tx id 2\", ...]), ...]\n",
    "    \"\"\"\n",
    "    result = []\n",
    "    # ...\n",
    "    return result\n",
    "\n",
    "# Performs some basic unit testing to check your implementation.\n",
    "account_test.test_scan_until_gaplimit(scan_until_gaplimit)\n"
   ]
  },
  {
   "cell_type": "code",
   "execution_count": 8,
   "metadata": {},
   "outputs": [],
   "source": [
    "# Scan both address chains until the gap limit is reached, returning the list of addresses and txIDs\n",
    "# touching them.\n",
    "receive_histories = scan_until_gaplimit(receive_xpub, gap_limit, get_history)\n",
    "change_histories = scan_until_gaplimit(change_xpub, gap_limit, get_history)"
   ]
  },
  {
   "cell_type": "code",
   "execution_count": 9,
   "metadata": {},
   "outputs": [
    {
     "name": "stdout",
     "output_type": "stream",
     "text": [
      "[]\n"
     ]
    }
   ],
   "source": [
    "# Merge into one so we can process all at once going forward.\n",
    "histories = receive_histories + change_histories\n",
    "# A small sample to visualize:\n",
    "pprint(histories[:5])"
   ]
  },
  {
   "cell_type": "code",
   "execution_count": 10,
   "metadata": {},
   "outputs": [
    {
     "name": "stdout",
     "output_type": "stream",
     "text": [
      "set()\n"
     ]
    }
   ],
   "source": [
    "# Gather all addresses belonging to our account for easy lookup\n",
    "# `\"<address>\" in account_addresses` checks for existence of an address in our account.\n",
    "account_addresses = set(address for address, _ in histories)\n",
    "pprint(account_addresses)"
   ]
  },
  {
   "cell_type": "markdown",
   "metadata": {},
   "source": [
    "# Fetch all transactions\n",
    "A full-fledged wallet needs a local copy of all of them to:\n",
    " - derive the tx ID and verify the merkle inclusion proof (the tx was mined)\n",
    " - show the transaction in a transactions overview screen\n"
   ]
  },
  {
   "cell_type": "code",
   "execution_count": 11,
   "metadata": {},
   "outputs": [
    {
     "name": "stdout",
     "output_type": "stream",
     "text": [
      "fetching transactions...\n",
      "fetched 0 transactions touching 0 addresses\n"
     ]
    }
   ],
   "source": [
    "print(\"fetching transactions...\")\n",
    "transactions = {}\n",
    "for address, history in histories:\n",
    "    for tx_id in history:\n",
    "        if tx_id not in transactions:\n",
    "            transactions[tx_id] = get_tx(tx_id)\n",
    "            # Skipped: verify that the tx contents derive the same tx ID\n",
    "            # Skipped: verify that the tx ID is included in the header merkle tree.\n",
    "print(\"fetched {} transactions touching {} addresses\".format(len(transactions), len(histories)))\n"
   ]
  },
  {
   "cell_type": "markdown",
   "metadata": {},
   "source": [
    "# Computing the account balance\n",
    "The \"easy\" way to compute an address balance is to ask the remote blockchain index\n",
    "for the relevant UTXOs (unspent outputs, e.g. via `/api/<address>/utxo`) and sum them up.\n",
    "A full fledged wallet however builds a local index of the spent and unspent outputs\n",
    "from the downloaded transactions, because:\n",
    " \n",
    " - needs no addtional, potentially slow, remote calls\n",
    " - to display correct transaction details, we need to know about our spent outputs too, not just the unspent outputs\n",
    "\n",
    "So we do that!\n",
    "\n",
    "The general outline is:\n",
    "\n",
    " 1. Record all outputs belonging to our account\n",
    " 1. From those, filter the ones which are still not spent (hint: there is no transaction input referencing it)\n",
    " 1. Sum the values of the unspent outputs"
   ]
  },
  {
   "cell_type": "code",
   "execution_count": 12,
   "metadata": {},
   "outputs": [
    {
     "name": "stdout",
     "output_type": "stream",
     "text": [
      "found 0 outputs belonging to this account\n"
     ]
    }
   ],
   "source": [
    "def get_our_outputs(account_addresses, transactions):\n",
    "    \"\"\"\n",
    "    Return all transaction outputs which belong to our account, as a dictionary:\n",
    "    { outputID: output }\n",
    "    outputID (also called outpoint) is usually identified by \"<txid>:<outputIndex>\".\n",
    "    Example result:\n",
    "    {\n",
    "      'ac6ab7ee826e0d68408c6186baba5f78657325997783d784de7e18d4357b5e43:1': {\n",
    "         'value': '8716503',\n",
    "         <other output data, but we only really need the value>,\n",
    "      },\n",
    "      ...\n",
    "    }\n",
    "    account_addresses is the same as computed above.\n",
    "    Hint: go through all outputs of all transactions (transaction['vout'])  and record\n",
    "    the outputs belonging to our account.\n",
    "    \"\"\"\n",
    "    our_outputs = {}\n",
    "    \n",
    "    # TODO: Implement...\n",
    "    \n",
    "    return our_outputs\n",
    "\n",
    "our_outputs = get_our_outputs(account_addresses, transactions)\n",
    "print(\"found {} outputs belonging to this account\".format(len(our_outputs)))"
   ]
  },
  {
   "cell_type": "code",
   "execution_count": 13,
   "metadata": {},
   "outputs": [
    {
     "name": "stdout",
     "output_type": "stream",
     "text": [
      "found 0 unspent outputs belonging to this account\n"
     ]
    }
   ],
   "source": [
    "def filter_unspent_outputs(our_outputs, transactions):\n",
    "    \"\"\"\n",
    "    Return the same kind of dictionary as our_outputs, but containing only unspent outputs.\n",
    "    Hint 1: start with all outputs. Remove spent outputs, leaving only unspent outputs.\n",
    "    Hint 2: an output is spent if there is an input referencing it.\n",
    "    \"\"\"\n",
    "\n",
    "    unspent_outputs = our_outputs.copy()\n",
    "    # Todo: implement ...\n",
    "    return unspent_outputs\n",
    "\n",
    "unspent_outputs = filter_unspent_outputs(our_outputs, transactions)\n",
    "print(\"found {} unspent outputs belonging to this account\".format(len(unspent_outputs)))\n"
   ]
  },
  {
   "cell_type": "code",
   "execution_count": 14,
   "metadata": {},
   "outputs": [
    {
     "name": "stdout",
     "output_type": "stream",
     "text": [
      "account balance: 0 Satoshi\n"
     ]
    }
   ],
   "source": [
    "def get_account_balance(unspent_outputs):\n",
    "    \"\"\"\n",
    "    Finally, return the sum of the unspent output values to get the account balance.\n",
    "    \"\"\"\n",
    "    balance = 0\n",
    "    # TODO: implement...\n",
    "    return balance\n",
    "balance = get_account_balance(unspent_outputs)\n",
    "print(\"account balance: {} Satoshi\".format(balance))"
   ]
  }
 ],
 "metadata": {
  "kernelspec": {
   "display_name": "Python 3",
   "language": "python",
   "name": "python3"
  },
  "language_info": {
   "codemirror_mode": {
    "name": "ipython",
    "version": 3
   },
   "file_extension": ".py",
   "mimetype": "text/x-python",
   "name": "python",
   "nbconvert_exporter": "python",
   "pygments_lexer": "ipython3",
   "version": "3.6.8"
  }
 },
 "nbformat": 4,
 "nbformat_minor": 2
}
